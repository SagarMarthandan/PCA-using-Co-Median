{
 "cells": [
  {
   "cell_type": "markdown",
   "metadata": {},
   "source": [
    "#### \t\t\t\t\t\t\t\t\t\t\t\t\t\t\t\t\t\t\t\t*1. Import Packages*"
   ]
  },
  {
   "cell_type": "code",
   "execution_count": 1,
   "metadata": {},
   "outputs": [],
   "source": [
    "import numpy as np\n",
    "import pandas as pd\n",
    "import matplotlib.pyplot as plt\n",
    "import sklearn as sk\n",
    "import seaborn as sns\n",
    "import statistics\n",
    "from scipy import stats\n",
    "from sklearn.preprocessing import MinMaxScaler\n",
    "from mpl_toolkits.mplot3d import Axes3D\n",
    "from itertools import combinations\n",
    "from itertools import permutations\n",
    "from sklearn.preprocessing import RobustScaler\n",
    "from scipy.spatial.distance import pdist, squareform"
   ]
  },
  {
   "cell_type": "markdown",
   "metadata": {},
   "source": [
    "\n",
    "#### \t\t\t\t\t\t\t\t\t\t\t\t\t\t\t\t\t\t\t\t*2. Dataset Space*"
   ]
  },
  {
   "cell_type": "code",
   "execution_count": 11,
   "metadata": {},
   "outputs": [
    {
     "name": "stdout",
     "output_type": "stream",
     "text": [
      "           X         Y\n",
      "0   0.000000  0.049671\n",
      "1   0.111111  0.097285\n",
      "2   0.222222  0.286991\n",
      "3   0.333333  0.485636\n",
      "4   0.444444  0.421029\n",
      "5   0.555556  0.532142\n",
      "6   0.666667  1.824588\n",
      "7   0.777778  0.854521\n",
      "8   0.888889  0.841941\n",
      "9   1.000000  1.054256\n",
      "10  0.800000  1.600000\n",
      "\n",
      "\n",
      "Number of samples: 11\n",
      "Number of features: 2\n",
      "\n",
      "\n"
     ]
    },
    {
     "data": {
      "image/png": "[encoded data removed]",
      "text/plain": [
       "<Figure size 432x288 with 1 Axes>"
      ]
     },
     "metadata": {
      "needs_background": "light"
     },
     "output_type": "display_data"
    },
    {
     "name": "stdout",
     "output_type": "stream",
     "text": [
      "           0         1\n",
      "0  -1.086957 -0.803610\n",
      "1  -0.869565 -0.724305\n",
      "2  -0.652174 -0.408327\n",
      "3  -0.434783 -0.077460\n",
      "4  -0.217391 -0.185071\n",
      "5   0.000000  0.000000\n",
      "6   0.217391  2.152719\n",
      "7   0.434783  0.536960\n",
      "8   0.652174  0.516007\n",
      "9   0.869565  0.869642\n",
      "10  0.478261  1.778641\n"
     ]
    },
    {
     "data": {
      "image/png": "[encoded data removed]",
      "text/plain": [
       "<Figure size 432x288 with 1 Axes>"
      ]
     },
     "metadata": {
      "needs_background": "light"
     },
     "output_type": "display_data"
    }
   ],
   "source": [
    "# Generate some sample data\n",
    "#x1 = [0.        , 0.11111111, 0.22222222, 0.33333333, 0.44444444, 0.55555556, 0.66666667, 0.77777778, 0.88888889, 1.,0.8]\n",
    "#y1 = [0.04967142, 0.09728468, 0.28699108, 0.48563632, 0.42102911, 0.53214186, 0.82458795, 0.85452125, 0.84194145, 1.054256 ,1.6]\n",
    "\n",
    "x1 = [0.        , 0.11111111, 0.22222222, 0.33333333, 0.44444444, 0.55555556, 0.66666667, 0.77777778, 0.88888889, 1.,0.8]\n",
    "y1 = [0.04967142, 0.09728468, 0.28699108, 0.48563632, 0.42102911, 0.53214186, 1.82458795, 0.85452125, 0.84194145, 1.054256 ,1.6]\n",
    "\n",
    "# Combine the data into a DataFrame\n",
    "x2 = pd.DataFrame({'X': x1, 'Y': y1})\n",
    "s_row, s_col = x2.shape\n",
    "cols = list(x2.columns)\n",
    "\n",
    "# Print the DataFrame\n",
    "print(x2)\n",
    "print('\\n')\n",
    "print('Number of samples:', s_row)\n",
    "print('Number of features:', s_col)\n",
    "print('\\n')\n",
    "\n",
    "# Create a scatter plot\n",
    "plt.scatter(x2['X'], x2['Y'])\n",
    "\n",
    "# Add axis labels and title\n",
    "plt.xlabel('X')\n",
    "plt.ylabel('Y')\n",
    "plt.title('Scatter plot of X and Y')\n",
    "\n",
    "# Show the plot\n",
    "plt.show()\n",
    "\n",
    "# Perform robust scaling\n",
    "scaler = RobustScaler()\n",
    "x = pd.DataFrame(scaler.fit_transform(x2))\n",
    "\n",
    "print(x)\n",
    "\n",
    "# Create a scatter plot\n",
    "plt.scatter(x[0], x[1])\n",
    "\n",
    "# Add axis labels and title\n",
    "plt.xlabel('X')\n",
    "plt.ylabel('Y')\n",
    "plt.title('Scatter plot of X and Y')\n",
    "\n",
    "# Show the plot\n",
    "plt.show()"
   ]
  },
  {
   "cell_type": "markdown",
   "metadata": {},
   "source": [
    "\n",
    "\n",
    "\n",
    "#### *3. CO-MAD - Correlation Matrix Generator*"
   ]
  },
  {
   "cell_type": "code",
   "execution_count": 12,
   "metadata": {},
   "outputs": [
    {
     "name": "stdout",
     "output_type": "stream",
     "text": [
      "           0         1\n",
      "0   1.086957  0.803610\n",
      "1   0.869565  0.724305\n",
      "2   0.652174  0.408327\n",
      "3   0.434783  0.077460\n",
      "4   0.217391  0.185071\n",
      "5   0.000000  0.000000\n",
      "6   0.217391  2.152719\n",
      "7   0.434783  0.536960\n",
      "8   0.652174  0.516007\n",
      "9   0.869565  0.869642\n",
      "10  0.478261  1.778641\n",
      "\n",
      "\n",
      "The elements of the corr matrix are [(0, 0), (1, 1), (0, 1), (1, 0)]\n",
      "\n",
      "\n",
      "The values of the corr_elems are\n",
      "\n",
      "\n",
      "The median of the columns (0,0) -> 0.47826085723062417\n",
      "The median of the columns (1,1) -> 0.5369602240773002\n",
      "The median of the columns (0,1) -> 0.5264836668959498\n",
      "The median of the columns (1,0) -> 0.5264836668959498\n",
      "\n",
      "\n",
      "[[0.47826086 0.        ]\n",
      " [0.         0.53696022]]\n",
      "\n",
      "\n",
      "Correlation matrix : \n",
      "\n",
      " [[0.47826086 0.52648367]\n",
      " [0.52648367 0.53696022]]\n"
     ]
    }
   ],
   "source": [
    "x_MAD = []\n",
    "for column in x:\n",
    "    x_MAD.append(np.absolute(x[column]-x[column].median()))\n",
    "MAD = pd.DataFrame(x_MAD).T\n",
    "print(MAD)\n",
    "\n",
    "list_x = MAD.columns\n",
    "comb = permutations(list_x, 2)\n",
    "# Print the obtained combinations\n",
    "\n",
    "perms = []\n",
    "for i in list(comb):\n",
    "    perms.append(i)\n",
    "#print(perms)\n",
    "\n",
    "diag = []\n",
    "a = MAD.columns\n",
    "for i in a:\n",
    "    diag.append(tuple((i, i)))\n",
    "#print(diag) \n",
    "\n",
    "corr_elems = diag + perms\n",
    "print('\\n')\n",
    "print(f'The elements of the corr matrix are {corr_elems}')\n",
    "print('\\n')\n",
    "print(f'The values of the corr_elems are')\n",
    "print('\\n')\n",
    "\n",
    "corr_mat = []\n",
    "for i in corr_elems:\n",
    "    corr_mat.append(MAD[i[0]].append(MAD[i[1]], ignore_index = True).median(axis = 0))\n",
    "    print(f'The median of the columns ({i[0]},{i[1]}) -> {(MAD[i[0]].append(MAD[i[1]], ignore_index = True).median(axis = 0))}')\n",
    "\n",
    "print('\\n')\n",
    "matrix = np.diag(corr_mat[0:s_col])\n",
    "print(matrix)\n",
    "print('\\n')\n",
    "k = 0\n",
    "for i in range(matrix.shape[1]):\n",
    "    for j in range(matrix.shape[1]):\n",
    "        if i != j:\n",
    "            matrix[i][j] = corr_mat[s_col:][k]\n",
    "            k += 1\n",
    "\n",
    "print(f\"Correlation matrix : \\n\\n {matrix}\")"
   ]
  },
  {
   "cell_type": "markdown",
   "metadata": {},
   "source": [
    "#### *4. Eigen-Values & Eigen-Vectors*"
   ]
  },
  {
   "cell_type": "code",
   "execution_count": 13,
   "metadata": {},
   "outputs": [
    {
     "name": "stdout",
     "output_type": "stream",
     "text": [
      "Eigenvalues:\n",
      "[ 1.03491165 -0.01969056]\n",
      "\n",
      "Eigenvectors:\n",
      "[[-0.6871462  -0.72651917]\n",
      " [-0.72651917  0.6871462 ]]\n",
      "\n",
      "Explained variance             : [101.94  -1.94]\n",
      "Cumulative explained variance  : [101.94 100.  ]\n"
     ]
    }
   ],
   "source": [
    "# Compute the eigenvalues and eigenvectors\n",
    "eigenvalues, eigenvectors = np.linalg.eig(matrix)\n",
    "\n",
    "# Sort the eigenvalues and eigenvectors in descending order\n",
    "idx = eigenvalues.argsort()[::-1]   \n",
    "eigenvalues = eigenvalues[idx]\n",
    "eigenvectors = eigenvectors[:,idx]\n",
    "\n",
    "# Print the sorted eigenvalues and eigenvectors\n",
    "print(\"Eigenvalues:\")\n",
    "print(eigenvalues)\n",
    "print(\"\\nEigenvectors:\")\n",
    "print(eigenvectors)\n",
    "\n",
    "eig_vals_total = sum(eigenvalues)\n",
    "explained_variance = [(i / eig_vals_total)*100 for i in eigenvalues]\n",
    "explained_variance = np.round(explained_variance, 2)\n",
    "cum_explained_variance = np.cumsum(explained_variance)\n",
    "print('\\nExplained variance             : {}'.format(explained_variance))\n",
    "\n",
    "print('Cumulative explained variance  : {}'.format(cum_explained_variance))"
   ]
  },
  {
   "cell_type": "markdown",
   "metadata": {},
   "source": [
    "#### *5. Selecting 'k' eigen-values for transformation*"
   ]
  },
  {
   "cell_type": "code",
   "execution_count": 14,
   "metadata": {},
   "outputs": [
    {
     "name": "stdout",
     "output_type": "stream",
     "text": [
      "Shape of projection : (1, 2)\n",
      "\n",
      "New projection:\n",
      "           0\n",
      "0   1.330736\n",
      "1   1.123740\n",
      "2   0.744796\n",
      "3   0.355036\n",
      "4   0.283837\n",
      "5   0.000000\n",
      "6  -1.713371\n",
      "7  -0.688871\n",
      "8  -0.823028\n",
      "9  -1.229330\n",
      "10 -1.620852\n"
     ]
    }
   ],
   "source": [
    "# Select 'k' no of eigen vectors\n",
    "k = 1\n",
    "W = eigenvectors[:k, :] # Projection matrix\n",
    "\n",
    "# Transform the original dataset\n",
    "X_proj = x.dot(W.T)\n",
    "\n",
    "print(f'Shape of projection : {W.shape}')\n",
    "print('\\nNew projection:')\n",
    "print(X_proj)"
   ]
  },
  {
   "cell_type": "markdown",
   "metadata": {},
   "source": [
    "#### *6. PCA projection*"
   ]
  },
  {
   "cell_type": "code",
   "execution_count": 15,
   "metadata": {
    "scrolled": true
   },
   "outputs": [
    {
     "data": {
      "image/png": "[encoded data removed]",
      "text/plain": [
       "<Figure size 432x288 with 1 Axes>"
      ]
     },
     "metadata": {
      "needs_background": "light"
     },
     "output_type": "display_data"
    }
   ],
   "source": [
    "plt.scatter(x[0], x[1])\n",
    "plt.arrow(x[0].mean(), x[1].mean(), eigenvectors[0, 0], eigenvectors[0, 1], color='r', width=0.01, shape='left')\n",
    "plt.title(\"PCA Projection\")\n",
    "plt.xlabel(\"PC1\")\n",
    "plt.show()"
   ]
  },
  {
   "cell_type": "markdown",
   "metadata": {},
   "source": [
    "#### *7. Distance Matrix of new projected points*"
   ]
  },
  {
   "cell_type": "code",
   "execution_count": 16,
   "metadata": {},
   "outputs": [
    {
     "name": "stdout",
     "output_type": "stream",
     "text": [
      "\n",
      "Square Form Matrix:\n",
      "          0         1         2         3         4         5         6   \\\n",
      "0   0.000000  0.206996  0.585940  0.975701  1.046899  1.330736  3.044107   \n",
      "1   0.206996  0.000000  0.378944  0.768704  0.839903  1.123740  2.837111   \n",
      "2   0.585940  0.378944  0.000000  0.389761  0.460959  0.744796  2.458167   \n",
      "3   0.975701  0.768704  0.389761  0.000000  0.071198  0.355036  2.068407   \n",
      "4   1.046899  0.839903  0.460959  0.071198  0.000000  0.283837  1.997208   \n",
      "5   1.330736  1.123740  0.744796  0.355036  0.283837  0.000000  1.713371   \n",
      "6   3.044107  2.837111  2.458167  2.068407  1.997208  1.713371  0.000000   \n",
      "7   2.019608  1.812611  1.433667  1.043907  0.972708  0.688871  1.024500   \n",
      "8   2.153764  1.946768  1.567824  1.178064  1.106865  0.823028  0.890343   \n",
      "9   2.560066  2.353070  1.974126  1.584365  1.513167  1.229330  0.484041   \n",
      "10  2.951589  2.744592  2.365648  1.975888  1.904690  1.620852  0.092519   \n",
      "\n",
      "          7         8         9         10  \n",
      "0   2.019608  2.153764  2.560066  2.951589  \n",
      "1   1.812611  1.946768  2.353070  2.744592  \n",
      "2   1.433667  1.567824  1.974126  2.365648  \n",
      "3   1.043907  1.178064  1.584365  1.975888  \n",
      "4   0.972708  1.106865  1.513167  1.904690  \n",
      "5   0.688871  0.823028  1.229330  1.620852  \n",
      "6   1.024500  0.890343  0.484041  0.092519  \n",
      "7   0.000000  0.134157  0.540459  0.931981  \n",
      "8   0.134157  0.000000  0.406302  0.797824  \n",
      "9   0.540459  0.406302  0.000000  0.391523  \n",
      "10  0.931981  0.797824  0.391523  0.000000  \n"
     ]
    }
   ],
   "source": [
    "SF = pd.DataFrame(squareform(pdist(X_proj, metric='euclidean')))\n",
    "print(f'\\nSquare Form Matrix:\\n{SF}')"
   ]
  },
  {
   "cell_type": "code",
   "execution_count": null,
   "metadata": {},
   "outputs": [],
   "source": []
  }
 ],
 "metadata": {
  "kernelspec": {
   "display_name": "Python 3",
   "language": "python",
   "name": "python3"
  },
  "language_info": {
   "codemirror_mode": {
    "name": "ipython",
    "version": 3
   },
   "file_extension": ".py",
   "mimetype": "text/x-python",
   "name": "python",
   "nbconvert_exporter": "python",
   "pygments_lexer": "ipython3",
   "version": "3.8.5"
  }
 },
 "nbformat": 4,
 "nbformat_minor": 4
}
